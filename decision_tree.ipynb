{
 "cells": [
  {
   "cell_type": "markdown",
   "id": "51f7b3e6-389b-4c02-9459-0f0c75eae51a",
   "metadata": {},
   "source": [
    "# Decision Trees"
   ]
  },
  {
   "cell_type": "code",
   "execution_count": 1,
   "id": "d6d9d18e-7595-432d-88bf-0c692cb5c99b",
   "metadata": {},
   "outputs": [],
   "source": [
    "# basics\n",
    "import pandas as pd\n",
    "import numpy as np\n",
    "import matplotlib.pyplot as plt\n",
    "import seaborn as sns\n",
    "from collections import Counter\n",
    "import re\n",
    "import warnings\n",
    "from subprocess import check_call\n",
    "from PIL import Image, ImageDraw, ImageFont\n",
    "\n",
    "import xgboost as xgb\n",
    "from sklearn.ensemble import RandomForestClassifier, AdaBoostClassifier, GradientBoostingClassifier, ExtraTreesClassifier, VotingClassifier\n",
    "from sklearn.ensemble import RandomForestRegressor\n",
    "\n",
    "from sklearn.discriminant_analysis import LinearDiscriminantAnalysis\n",
    "from sklearn.linear_model import LogisticRegression\n",
    "from sklearn.neighbors import KNeighborsClassifier\n",
    "from sklearn.tree import DecisionTreeClassifier\n",
    "from sklearn.neural_network import MLPClassifier\n",
    "from sklearn.svm import SVC\n",
    "from sklearn.model_selection import GridSearchCV, cross_val_score, StratifiedKFold, learning_curve, KFold\n",
    "from sklearn.model_selection import train_test_split\n",
    "\n",
    "from sklearn.metrics import accuracy_score\n",
    "from sklearn.metrics import confusion_matrix\n",
    "from sklearn.metrics import f1_score"
   ]
  },
  {
   "cell_type": "markdown",
   "id": "9d01a22c-66fd-4e2b-b08c-3dfdb4c7a289",
   "metadata": {},
   "source": [
    "# Load data"
   ]
  },
  {
   "cell_type": "code",
   "execution_count": 2,
   "id": "0ec4c10f-11b5-4caa-adfc-9026539db8b5",
   "metadata": {},
   "outputs": [],
   "source": [
    "train = pd.read_csv(\"res/train.csv\")\n",
    "test = pd.read_csv(\"res/test.csv\")\n",
    "IDtest = test[\"PassengerId\"]"
   ]
  },
  {
   "cell_type": "markdown",
   "id": "98d05926-bbd9-4187-aebc-ed62877cf7b1",
   "metadata": {},
   "source": [
    "### Data Cleaning\n",
    "- [参考: introduction-to-ensembling-stacking-in-python](https://www.kaggle.com/arthurtok/introduction-to-ensembling-stacking-in-python) "
   ]
  },
  {
   "cell_type": "code",
   "execution_count": 3,
   "id": "9fddfda8-48af-4d5e-b4f6-a04ed7a63205",
   "metadata": {},
   "outputs": [
    {
     "name": "stderr",
     "output_type": "stream",
     "text": [
      "<ipython-input-3-f22d94c73083>:32: SettingWithCopyWarning: \n",
      "A value is trying to be set on a copy of a slice from a DataFrame\n",
      "\n",
      "See the caveats in the documentation: https://pandas.pydata.org/pandas-docs/stable/user_guide/indexing.html#returning-a-view-versus-a-copy\n",
      "  dataset['Age'][np.isnan(dataset['Age'])] = age_null_random_list\n"
     ]
    }
   ],
   "source": [
    "full_data = [train, test]\n",
    "\n",
    "# Some features of my own that I have added in\n",
    "# Gives the length of the name\n",
    "train['Name_length'] = train['Name'].apply(len)\n",
    "test['Name_length'] = test['Name'].apply(len)\n",
    "# Feature that tells whether a passenger had a cabin on the Titanic\n",
    "train['Has_Cabin'] = train[\"Cabin\"].apply(lambda x: 0 if type(x) == float else 1)\n",
    "test['Has_Cabin'] = test[\"Cabin\"].apply(lambda x: 0 if type(x) == float else 1)\n",
    "\n",
    "# Feature engineering steps taken from Sina\n",
    "# Create new feature FamilySize as a combination of SibSp and Parch\n",
    "for dataset in full_data:\n",
    "    dataset['FamilySize'] = dataset['SibSp'] + dataset['Parch'] + 1\n",
    "# Create new feature IsAlone from FamilySize\n",
    "for dataset in full_data:\n",
    "    dataset['IsAlone'] = 0\n",
    "    dataset.loc[dataset['FamilySize'] == 1, 'IsAlone'] = 1\n",
    "# Remove all NULLS in the Embarked column\n",
    "for dataset in full_data:\n",
    "    dataset['Embarked'] = dataset['Embarked'].fillna('S')\n",
    "# Remove all NULLS in the Fare column and create a new feature CategoricalFare\n",
    "for dataset in full_data:\n",
    "    dataset['Fare'] = dataset['Fare'].fillna(train['Fare'].median())\n",
    "train['CategoricalFare'] = pd.qcut(train['Fare'], 4)\n",
    "# Create a New feature CategoricalAge\n",
    "for dataset in full_data:\n",
    "    age_avg = dataset['Age'].mean()\n",
    "    age_std = dataset['Age'].std()\n",
    "    age_null_count = dataset['Age'].isnull().sum()\n",
    "    age_null_random_list = np.random.randint(age_avg - age_std, age_avg + age_std, size=age_null_count)\n",
    "    dataset['Age'][np.isnan(dataset['Age'])] = age_null_random_list\n",
    "    dataset['Age'] = dataset['Age'].astype(int)\n",
    "train['CategoricalAge'] = pd.cut(train['Age'], 5)\n",
    "# Define function to extract titles from passenger names\n",
    "def get_title(name):\n",
    "    title_search = re.search(' ([A-Za-z]+)\\.', name)\n",
    "    # If the title exists, extract and return it.\n",
    "    if title_search:\n",
    "        return title_search.group(1)\n",
    "    return \"\"\n",
    "# Create a new feature Title, containing the titles of passenger names\n",
    "for dataset in full_data:\n",
    "    dataset['Title'] = dataset['Name'].apply(get_title)\n",
    "# Group all non-common titles into one single grouping \"Rare\"\n",
    "for dataset in full_data:\n",
    "    dataset['Title'] = dataset['Title'].replace(['Lady', 'Countess','Capt', 'Col','Don', 'Dr', 'Major', 'Rev', 'Sir', 'Jonkheer', 'Dona'], 'Rare')\n",
    "\n",
    "    dataset['Title'] = dataset['Title'].replace('Mlle', 'Miss')\n",
    "    dataset['Title'] = dataset['Title'].replace('Ms', 'Miss')\n",
    "    dataset['Title'] = dataset['Title'].replace('Mme', 'Mrs')\n",
    "\n",
    "for dataset in full_data:\n",
    "    # Mapping Sex\n",
    "    dataset['Sex'] = dataset['Sex'].map( {'female': 0, 'male': 1} ).astype(int)\n",
    "    \n",
    "    # Mapping titles\n",
    "    title_mapping = {\"Mr\": 1, \"Miss\": 2, \"Mrs\": 3, \"Master\": 4, \"Rare\": 5}\n",
    "    dataset['Title'] = dataset['Title'].map(title_mapping)\n",
    "    dataset['Title'] = dataset['Title'].fillna(0)\n",
    "    \n",
    "    # Mapping Embarked\n",
    "    dataset['Embarked'] = dataset['Embarked'].map( {'S': 0, 'C': 1, 'Q': 2} ).astype(int)\n",
    "    \n",
    "    # Mapping Fare\n",
    "    dataset.loc[ dataset['Fare'] <= 7.91, 'Fare'] \t\t\t\t\t\t        = 0\n",
    "    dataset.loc[(dataset['Fare'] > 7.91) & (dataset['Fare'] <= 14.454), 'Fare'] = 1\n",
    "    dataset.loc[(dataset['Fare'] > 14.454) & (dataset['Fare'] <= 31), 'Fare']   = 2\n",
    "    dataset.loc[ dataset['Fare'] > 31, 'Fare'] \t\t\t\t\t\t\t        = 3\n",
    "    dataset['Fare'] = dataset['Fare'].astype(int)\n",
    "    \n",
    "    # Mapping Age\n",
    "    dataset.loc[ dataset['Age'] <= 16, 'Age'] \t\t\t\t\t       = 0\n",
    "    dataset.loc[(dataset['Age'] > 16) & (dataset['Age'] <= 32), 'Age'] = 1\n",
    "    dataset.loc[(dataset['Age'] > 32) & (dataset['Age'] <= 48), 'Age'] = 2\n",
    "    dataset.loc[(dataset['Age'] > 48) & (dataset['Age'] <= 64), 'Age'] = 3\n",
    "    dataset.loc[ dataset['Age'] > 64, 'Age'] = 4 ;"
   ]
  },
  {
   "cell_type": "code",
   "execution_count": null,
   "id": "2f098897-7db3-44a1-beb3-2db7a23785dc",
   "metadata": {},
   "outputs": [],
   "source": []
  },
  {
   "cell_type": "code",
   "execution_count": 4,
   "id": "f41b8984-0a2f-454a-899b-eaab1817bcf7",
   "metadata": {},
   "outputs": [],
   "source": [
    "# Feature selection\n",
    "drop_elements = ['PassengerId', 'Name', 'Ticket', 'Cabin', 'SibSp']\n",
    "train = train.drop(drop_elements, axis = 1)\n",
    "train = train.drop(['CategoricalAge', 'CategoricalFare'], axis = 1)\n",
    "test  = test.drop(drop_elements, axis = 1)"
   ]
  },
  {
   "cell_type": "code",
   "execution_count": 5,
   "id": "6c8f03e7-b3c0-490c-916c-76e16cdc50c2",
   "metadata": {},
   "outputs": [
    {
     "data": {
      "text/html": [
       "<div>\n",
       "<style scoped>\n",
       "    .dataframe tbody tr th:only-of-type {\n",
       "        vertical-align: middle;\n",
       "    }\n",
       "\n",
       "    .dataframe tbody tr th {\n",
       "        vertical-align: top;\n",
       "    }\n",
       "\n",
       "    .dataframe thead th {\n",
       "        text-align: right;\n",
       "    }\n",
       "</style>\n",
       "<table border=\"1\" class=\"dataframe\">\n",
       "  <thead>\n",
       "    <tr style=\"text-align: right;\">\n",
       "      <th></th>\n",
       "      <th>Survived</th>\n",
       "      <th>Pclass</th>\n",
       "      <th>Sex</th>\n",
       "      <th>Age</th>\n",
       "      <th>Parch</th>\n",
       "      <th>Fare</th>\n",
       "      <th>Embarked</th>\n",
       "      <th>Name_length</th>\n",
       "      <th>Has_Cabin</th>\n",
       "      <th>FamilySize</th>\n",
       "      <th>IsAlone</th>\n",
       "      <th>Title</th>\n",
       "    </tr>\n",
       "  </thead>\n",
       "  <tbody>\n",
       "    <tr>\n",
       "      <th>0</th>\n",
       "      <td>0</td>\n",
       "      <td>3</td>\n",
       "      <td>1</td>\n",
       "      <td>1</td>\n",
       "      <td>0</td>\n",
       "      <td>0</td>\n",
       "      <td>0</td>\n",
       "      <td>23</td>\n",
       "      <td>0</td>\n",
       "      <td>2</td>\n",
       "      <td>0</td>\n",
       "      <td>1</td>\n",
       "    </tr>\n",
       "    <tr>\n",
       "      <th>1</th>\n",
       "      <td>1</td>\n",
       "      <td>1</td>\n",
       "      <td>0</td>\n",
       "      <td>2</td>\n",
       "      <td>0</td>\n",
       "      <td>3</td>\n",
       "      <td>1</td>\n",
       "      <td>51</td>\n",
       "      <td>1</td>\n",
       "      <td>2</td>\n",
       "      <td>0</td>\n",
       "      <td>3</td>\n",
       "    </tr>\n",
       "    <tr>\n",
       "      <th>2</th>\n",
       "      <td>1</td>\n",
       "      <td>3</td>\n",
       "      <td>0</td>\n",
       "      <td>1</td>\n",
       "      <td>0</td>\n",
       "      <td>1</td>\n",
       "      <td>0</td>\n",
       "      <td>22</td>\n",
       "      <td>0</td>\n",
       "      <td>1</td>\n",
       "      <td>1</td>\n",
       "      <td>2</td>\n",
       "    </tr>\n",
       "  </tbody>\n",
       "</table>\n",
       "</div>"
      ],
      "text/plain": [
       "   Survived  Pclass  Sex  Age  Parch  Fare  Embarked  Name_length  Has_Cabin  \\\n",
       "0         0       3    1    1      0     0         0           23          0   \n",
       "1         1       1    0    2      0     3         1           51          1   \n",
       "2         1       3    0    1      0     1         0           22          0   \n",
       "\n",
       "   FamilySize  IsAlone  Title  \n",
       "0           2        0      1  \n",
       "1           2        0      3  \n",
       "2           1        1      2  "
      ]
     },
     "execution_count": 5,
     "metadata": {},
     "output_type": "execute_result"
    }
   ],
   "source": [
    "train.head(3)\n"
   ]
  },
  {
   "cell_type": "code",
   "execution_count": null,
   "id": "c21179b1-f719-4fbb-a2a8-89e37d5b90b0",
   "metadata": {},
   "outputs": [],
   "source": []
  },
  {
   "cell_type": "markdown",
   "id": "1bc4f0d4-733c-4ca1-8290-8dc89453ee52",
   "metadata": {},
   "source": [
    "# Trainer"
   ]
  },
  {
   "cell_type": "code",
   "execution_count": null,
   "id": "29a5f074-8761-4835-835b-9a231f795ad5",
   "metadata": {},
   "outputs": [],
   "source": []
  },
  {
   "cell_type": "code",
   "execution_count": 6,
   "id": "e7805db6-8801-43a1-959c-4ec239fb7379",
   "metadata": {},
   "outputs": [
    {
     "name": "stdout",
     "output_type": "stream",
     "text": [
      "x_train (891, 11)\n",
      "y_train (891,)\n",
      "x_test (418, 11)\n"
     ]
    }
   ],
   "source": [
    "# Create Numpy arrays of train, test and target ( Survived) dataframes to feed into our models\n",
    "y_train = train['Survived'].ravel()\n",
    "train = train.drop(['Survived'], axis=1)\n",
    "x_train = train.values # Creates an array of the train data\n",
    "x_test = test.values # Creats an array of the test data\n",
    "\n",
    "print('x_train', x_train.shape)\n",
    "print('y_train', y_train.shape)\n",
    "print('x_test', x_test.shape)"
   ]
  },
  {
   "cell_type": "code",
   "execution_count": 7,
   "id": "4373da4d-f8de-484f-b5cb-350181d7f604",
   "metadata": {},
   "outputs": [
    {
     "data": {
      "text/plain": [
       "RandomForestClassifier(max_depth=3, min_samples_leaf=4, n_jobs=-1,\n",
       "                       random_state=0)"
      ]
     },
     "execution_count": 7,
     "metadata": {},
     "output_type": "execute_result"
    }
   ],
   "source": [
    "rf = RandomForestClassifier(n_estimators=100,\n",
    "                           max_depth=3,\n",
    "                           max_features='auto',\n",
    "                           min_samples_leaf=4,\n",
    "                           bootstrap=True,\n",
    "                           n_jobs=-1,\n",
    "                           random_state=0)\n",
    "rf.fit(x_train, y_train)"
   ]
  },
  {
   "cell_type": "code",
   "execution_count": 8,
   "id": "57bbde4d-19e8-48fa-b941-172610de4439",
   "metadata": {},
   "outputs": [
    {
     "name": "stdout",
     "output_type": "stream",
     "text": [
      "DecisionTreeClassifier(max_depth=3, max_features='auto', min_samples_leaf=4,\n",
      "                       random_state=209652396)\n",
      "DecisionTreeClassifier(max_depth=3, max_features='auto', min_samples_leaf=4,\n",
      "                       random_state=398764591)\n"
     ]
    }
   ],
   "source": [
    "print(rf.estimators_[0])\n",
    "print(rf.estimators_[1])"
   ]
  },
  {
   "cell_type": "code",
   "execution_count": 9,
   "id": "33caf7d9-5502-4da9-81ba-39d798eb1e4b",
   "metadata": {},
   "outputs": [],
   "source": [
    "y_test = rf.predict(x_test)"
   ]
  },
  {
   "cell_type": "markdown",
   "id": "fc5ea77d-f4b4-4a2f-ab16-e332ee848876",
   "metadata": {},
   "source": [
    "### まずは何の変哲もない推論結果を提出してみる"
   ]
  },
  {
   "cell_type": "code",
   "execution_count": 10,
   "id": "fd2f76d9-8659-4117-b6eb-e378b56703e2",
   "metadata": {},
   "outputs": [],
   "source": [
    "submission_df = pd.DataFrame({\n",
    "    \"PassengerID\": IDtest,\n",
    "    \"Survived\"   : y_test    \n",
    "})\n",
    "submission_df.to_csv('simple_random_forest_submission.csv', index=False)"
   ]
  },
  {
   "cell_type": "code",
   "execution_count": null,
   "id": "cccc6b36-eb67-4667-8a1f-e5db4f555cf5",
   "metadata": {},
   "outputs": [],
   "source": []
  },
  {
   "cell_type": "code",
   "execution_count": null,
   "id": "a98105b3-ea12-4b4c-b33d-fc15c6d07e24",
   "metadata": {},
   "outputs": [],
   "source": []
  },
  {
   "cell_type": "code",
   "execution_count": 11,
   "id": "79169264-3350-4875-b4eb-f370f664c94c",
   "metadata": {},
   "outputs": [
    {
     "data": {
      "text/plain": [
       "[Text(0.5, 0.875, 'Pclass <= 2.5\\ngini = 0.466\\nsamples = 571\\nvalue = [562, 329]\\nclass = S'),\n",
       " Text(0.25, 0.625, 'Sex <= 0.5\\ngini = 0.494\\nsamples = 252\\nvalue = [173, 217]\\nclass = u'),\n",
       " Text(0.125, 0.375, 'FamilySize <= 3.5\\ngini = 0.174\\nsamples = 110\\nvalue = [16, 150]\\nclass = u'),\n",
       " Text(0.0625, 0.125, 'gini = 0.129\\nsamples = 98\\nvalue = [10, 134]\\nclass = u'),\n",
       " Text(0.1875, 0.125, 'gini = 0.397\\nsamples = 12\\nvalue = [6, 16]\\nclass = u'),\n",
       " Text(0.375, 0.375, 'Name_length <= 28.5\\ngini = 0.419\\nsamples = 142\\nvalue = [157, 67]\\nclass = S'),\n",
       " Text(0.3125, 0.125, 'gini = 0.328\\nsamples = 105\\nvalue = [123, 32]\\nclass = S'),\n",
       " Text(0.4375, 0.125, 'gini = 0.5\\nsamples = 37\\nvalue = [34, 35]\\nclass = u'),\n",
       " Text(0.75, 0.625, 'Title <= 1.5\\ngini = 0.347\\nsamples = 319\\nvalue = [389, 112]\\nclass = S'),\n",
       " Text(0.625, 0.375, 'FamilySize <= 1.5\\ngini = 0.179\\nsamples = 205\\nvalue = [291, 32]\\nclass = S'),\n",
       " Text(0.5625, 0.125, 'gini = 0.201\\nsamples = 167\\nvalue = [235, 30]\\nclass = S'),\n",
       " Text(0.6875, 0.125, 'gini = 0.067\\nsamples = 38\\nvalue = [56, 2]\\nclass = S'),\n",
       " Text(0.875, 0.375, 'Title <= 3.5\\ngini = 0.495\\nsamples = 114\\nvalue = [98, 80]\\nclass = S'),\n",
       " Text(0.8125, 0.125, 'gini = 0.499\\nsamples = 93\\nvalue = [76, 69]\\nclass = S'),\n",
       " Text(0.9375, 0.125, 'gini = 0.444\\nsamples = 21\\nvalue = [22, 11]\\nclass = S')]"
      ]
     },
     "execution_count": 11,
     "metadata": {},
     "output_type": "execute_result"
    },
    {
     "data": {
      "image/png": "[encoded data removed]",
      "text/plain": [
       "<Figure size 1080x720 with 1 Axes>"
      ]
     },
     "metadata": {
      "needs_background": "light"
     },
     "output_type": "display_data"
    }
   ],
   "source": [
    "from sklearn.tree import plot_tree\n",
    "\n",
    "fig = plt.figure(figsize=(15, 10))\n",
    "plot_tree(rf.estimators_[0], \n",
    "          feature_names=train.columns,\n",
    "          class_names=\"Survived\", \n",
    "          filled=True,\n",
    "          impurity=True, \n",
    "          rounded=True)"
   ]
  },
  {
   "cell_type": "code",
   "execution_count": null,
   "id": "ee6afa01-7473-4ff9-8479-ae72b8edde2c",
   "metadata": {},
   "outputs": [],
   "source": []
  },
  {
   "cell_type": "markdown",
   "id": "8d8007b9-a6ef-4ac3-8970-dcb6bacdf079",
   "metadata": {},
   "source": [
    "# Optuna を使って最適化してみる"
   ]
  },
  {
   "cell_type": "code",
   "execution_count": 12,
   "id": "5f4e5b68-ef8b-4d92-867c-89da40346d65",
   "metadata": {},
   "outputs": [],
   "source": [
    "import optuna\n",
    "\n",
    "\n",
    "\n",
    "# X_train, X_test, Y_train, Y_test = train_test_split(x_train, y_train, train_size=0.8)\n"
   ]
  },
  {
   "cell_type": "code",
   "execution_count": 13,
   "id": "32977108-dc43-4078-8035-f70fd1db6ed4",
   "metadata": {},
   "outputs": [],
   "source": [
    "def objective(trial):\n",
    "    \n",
    "    criterion = trial.suggest_categorical('criterion', ['gini', 'entropy'])\n",
    "    bootstrap = trial.suggest_categorical('bootstrap', ['True', 'False'])\n",
    "    max_depth = trial.suggest_int('max_depth', 1, 1000)\n",
    "    max_features = trial.suggest_categorical('max_features', ['auto', 'sqrt', 'log2'])\n",
    "    max_leaf_nodes = trial.suggest_int('max_leaf_nodes', 1, 1000)\n",
    "    n_estimators = trial.suggest_int('n_estimators', 1, 1000)\n",
    "    min_samples_split = trial.suggest_int('min_samples_split', 2, 5)\n",
    "    min_samples_leaf = trial.suggest_int('min_samples_leaf', 1, 10)\n",
    "    NFOLDS = trial.suggest_int('NFOLDS', 2, 10)\n",
    "    \n",
    "    rf = RandomForestClassifier(bootstrap = bootstrap,\n",
    "                               criterion = criterion,\n",
    "                               max_depth = max_depth, \n",
    "                               max_features = max_features,\n",
    "                               max_leaf_nodes = max_leaf_nodes,\n",
    "                               n_estimators = n_estimators,\n",
    "                               min_samples_split = min_samples_split,\n",
    "                               min_samples_leaf = min_samples_leaf,\n",
    "                               n_jobs=2\n",
    "                              )\n",
    "    \n",
    "    kf = KFold(n_splits=NFOLDS, shuffle=True, random_state=0)\n",
    "    \n",
    "    oof_train = np.zeros((len(x_train),))\n",
    "    # oof_test = np.zeros((len(x_test),))\n",
    "    # oof_test_skf = np.empty((NFOLDS, len(x_test)))\n",
    "\n",
    "    for i, (train_index, test_index) in enumerate(kf.split(x_train)):\n",
    "        x_tr = x_train[train_index]\n",
    "        y_tr = y_train[train_index]\n",
    "        x_te = x_train[test_index]\n",
    "\n",
    "        rf.fit(x_tr, y_tr)\n",
    "\n",
    "        oof_train[test_index] = rf.predict(x_te)\n",
    "        # oof_test_skf[i, :] = rf.predict(x_test)\n",
    "\n",
    "    # oof_test[:] = oof_test_skf.mean(axis=0)\n",
    "    \n",
    "    score = accuracy_score(y_train, oof_train)\n",
    "\n",
    "    # rf.fit(X_train, Y_train)\n",
    "    # Y_pred = rf.predict(X_test)\n",
    "    \n",
    "    # score = cross_val_score(rf, x_train, y_train, cv=5, scoring=\"r2\")\n",
    "    # score = accuracy_score(Y_test, Y_pred)\n",
    "    # print('score', score)\n",
    "                           \n",
    "    return score\n",
    "    \n",
    "    \n",
    "    "
   ]
  },
  {
   "cell_type": "code",
   "execution_count": 14,
   "id": "331c1f13-785b-43dd-a3ee-8561cddc318e",
   "metadata": {},
   "outputs": [
    {
     "name": "stderr",
     "output_type": "stream",
     "text": [
      "\u001b[32m[I 2022-01-25 02:17:21,274]\u001b[0m A new study created in memory with name: no-name-3c774983-eca8-49dc-b98b-b2f5579ce695\u001b[0m\n",
      "\u001b[32m[I 2022-01-25 02:17:33,217]\u001b[0m Trial 0 finished with value: 0.8226711560044894 and parameters: {'criterion': 'gini', 'bootstrap': 'True', 'max_depth': 168, 'max_features': 'auto', 'max_leaf_nodes': 277, 'n_estimators': 999, 'min_samples_split': 2, 'min_samples_leaf': 3, 'NFOLDS': 8}. Best is trial 0 with value: 0.8226711560044894.\u001b[0m\n",
      "\u001b[32m[I 2022-01-25 02:17:33,385]\u001b[0m Trial 1 finished with value: 0.8170594837261503 and parameters: {'criterion': 'entropy', 'bootstrap': 'False', 'max_depth': 288, 'max_features': 'sqrt', 'max_leaf_nodes': 735, 'n_estimators': 48, 'min_samples_split': 2, 'min_samples_leaf': 5, 'NFOLDS': 2}. Best is trial 0 with value: 0.8226711560044894.\u001b[0m\n",
      "\u001b[32m[I 2022-01-25 02:17:35,520]\u001b[0m Trial 2 finished with value: 0.8215488215488216 and parameters: {'criterion': 'entropy', 'bootstrap': 'False', 'max_depth': 878, 'max_features': 'sqrt', 'max_leaf_nodes': 982, 'n_estimators': 177, 'min_samples_split': 2, 'min_samples_leaf': 7, 'NFOLDS': 7}. Best is trial 0 with value: 0.8226711560044894.\u001b[0m\n",
      "\u001b[32m[I 2022-01-25 02:17:47,477]\u001b[0m Trial 3 finished with value: 0.8226711560044894 and parameters: {'criterion': 'gini', 'bootstrap': 'True', 'max_depth': 519, 'max_features': 'log2', 'max_leaf_nodes': 623, 'n_estimators': 1000, 'min_samples_split': 3, 'min_samples_leaf': 3, 'NFOLDS': 8}. Best is trial 0 with value: 0.8226711560044894.\u001b[0m\n",
      "\u001b[32m[I 2022-01-25 02:17:54,993]\u001b[0m Trial 4 finished with value: 0.8215488215488216 and parameters: {'criterion': 'entropy', 'bootstrap': 'False', 'max_depth': 127, 'max_features': 'sqrt', 'max_leaf_nodes': 84, 'n_estimators': 881, 'min_samples_split': 3, 'min_samples_leaf': 5, 'NFOLDS': 6}. Best is trial 0 with value: 0.8226711560044894.\u001b[0m\n",
      "\u001b[32m[I 2022-01-25 02:17:56,244]\u001b[0m Trial 5 finished with value: 0.8294051627384961 and parameters: {'criterion': 'entropy', 'bootstrap': 'False', 'max_depth': 75, 'max_features': 'log2', 'max_leaf_nodes': 874, 'n_estimators': 216, 'min_samples_split': 5, 'min_samples_leaf': 5, 'NFOLDS': 4}. Best is trial 5 with value: 0.8294051627384961.\u001b[0m\n",
      "\u001b[32m[I 2022-01-25 02:18:00,350]\u001b[0m Trial 6 finished with value: 0.8282828282828283 and parameters: {'criterion': 'entropy', 'bootstrap': 'False', 'max_depth': 585, 'max_features': 'log2', 'max_leaf_nodes': 103, 'n_estimators': 944, 'min_samples_split': 3, 'min_samples_leaf': 1, 'NFOLDS': 3}. Best is trial 5 with value: 0.8294051627384961.\u001b[0m\n",
      "\u001b[32m[I 2022-01-25 02:18:00,657]\u001b[0m Trial 7 finished with value: 0.8237934904601572 and parameters: {'criterion': 'entropy', 'bootstrap': 'False', 'max_depth': 409, 'max_features': 'log2', 'max_leaf_nodes': 363, 'n_estimators': 105, 'min_samples_split': 2, 'min_samples_leaf': 4, 'NFOLDS': 2}. Best is trial 5 with value: 0.8294051627384961.\u001b[0m\n",
      "\u001b[32m[I 2022-01-25 02:18:07,308]\u001b[0m Trial 8 finished with value: 0.8226711560044894 and parameters: {'criterion': 'entropy', 'bootstrap': 'True', 'max_depth': 933, 'max_features': 'log2', 'max_leaf_nodes': 736, 'n_estimators': 587, 'min_samples_split': 3, 'min_samples_leaf': 7, 'NFOLDS': 8}. Best is trial 5 with value: 0.8294051627384961.\u001b[0m\n",
      "\u001b[32m[I 2022-01-25 02:18:12,947]\u001b[0m Trial 9 finished with value: 0.8260381593714927 and parameters: {'criterion': 'gini', 'bootstrap': 'False', 'max_depth': 765, 'max_features': 'auto', 'max_leaf_nodes': 36, 'n_estimators': 439, 'min_samples_split': 3, 'min_samples_leaf': 6, 'NFOLDS': 9}. Best is trial 5 with value: 0.8294051627384961.\u001b[0m\n",
      "\u001b[32m[I 2022-01-25 02:18:15,642]\u001b[0m Trial 10 finished with value: 0.8181818181818182 and parameters: {'criterion': 'gini', 'bootstrap': 'True', 'max_depth': 12, 'max_features': 'log2', 'max_leaf_nodes': 957, 'n_estimators': 366, 'min_samples_split': 5, 'min_samples_leaf': 10, 'NFOLDS': 5}. Best is trial 5 with value: 0.8294051627384961.\u001b[0m\n",
      "\u001b[32m[I 2022-01-25 02:18:19,761]\u001b[0m Trial 11 finished with value: 0.8271604938271605 and parameters: {'criterion': 'entropy', 'bootstrap': 'False', 'max_depth': 604, 'max_features': 'log2', 'max_leaf_nodes': 446, 'n_estimators': 703, 'min_samples_split': 5, 'min_samples_leaf': 1, 'NFOLDS': 4}. Best is trial 5 with value: 0.8294051627384961.\u001b[0m\n",
      "\u001b[32m[I 2022-01-25 02:18:21,455]\u001b[0m Trial 12 finished with value: 0.819304152637486 and parameters: {'criterion': 'entropy', 'bootstrap': 'False', 'max_depth': 676, 'max_features': 'log2', 'max_leaf_nodes': 224, 'n_estimators': 294, 'min_samples_split': 4, 'min_samples_leaf': 1, 'NFOLDS': 4}. Best is trial 5 with value: 0.8294051627384961.\u001b[0m\n",
      "\u001b[32m[I 2022-01-25 02:18:24,585]\u001b[0m Trial 13 finished with value: 0.8204264870931538 and parameters: {'criterion': 'entropy', 'bootstrap': 'False', 'max_depth': 394, 'max_features': 'log2', 'max_leaf_nodes': 568, 'n_estimators': 714, 'min_samples_split': 4, 'min_samples_leaf': 9, 'NFOLDS': 3}. Best is trial 5 with value: 0.8294051627384961.\u001b[0m\n",
      "\u001b[32m[I 2022-01-25 02:18:26,007]\u001b[0m Trial 14 finished with value: 0.8294051627384961 and parameters: {'criterion': 'entropy', 'bootstrap': 'False', 'max_depth': 277, 'max_features': 'log2', 'max_leaf_nodes': 730, 'n_estimators': 241, 'min_samples_split': 4, 'min_samples_leaf': 2, 'NFOLDS': 4}. Best is trial 5 with value: 0.8294051627384961.\u001b[0m\n",
      "\u001b[32m[I 2022-01-25 02:18:27,763]\u001b[0m Trial 15 finished with value: 0.8237934904601572 and parameters: {'criterion': 'entropy', 'bootstrap': 'False', 'max_depth': 15, 'max_features': 'auto', 'max_leaf_nodes': 827, 'n_estimators': 241, 'min_samples_split': 5, 'min_samples_leaf': 3, 'NFOLDS': 5}. Best is trial 5 with value: 0.8294051627384961.\u001b[0m\n",
      "\u001b[32m[I 2022-01-25 02:18:27,968]\u001b[0m Trial 16 finished with value: 0.8215488215488216 and parameters: {'criterion': 'entropy', 'bootstrap': 'False', 'max_depth': 223, 'max_features': 'log2', 'max_leaf_nodes': 807, 'n_estimators': 22, 'min_samples_split': 4, 'min_samples_leaf': 2, 'NFOLDS': 5}. Best is trial 5 with value: 0.8294051627384961.\u001b[0m\n",
      "\u001b[32m[I 2022-01-25 02:18:33,223]\u001b[0m Trial 17 finished with value: 0.8327721661054994 and parameters: {'criterion': 'entropy', 'bootstrap': 'False', 'max_depth': 324, 'max_features': 'log2', 'max_leaf_nodes': 857, 'n_estimators': 364, 'min_samples_split': 5, 'min_samples_leaf': 8, 'NFOLDS': 10}. Best is trial 17 with value: 0.8327721661054994.\u001b[0m\n",
      "\u001b[32m[I 2022-01-25 02:18:40,744]\u001b[0m Trial 18 finished with value: 0.8237934904601572 and parameters: {'criterion': 'gini', 'bootstrap': 'True', 'max_depth': 334, 'max_features': 'auto', 'max_leaf_nodes': 648, 'n_estimators': 504, 'min_samples_split': 4, 'min_samples_leaf': 8, 'NFOLDS': 10}. Best is trial 17 with value: 0.8327721661054994.\u001b[0m\n",
      "\u001b[32m[I 2022-01-25 02:18:46,250]\u001b[0m Trial 19 finished with value: 0.8294051627384961 and parameters: {'criterion': 'entropy', 'bootstrap': 'False', 'max_depth': 423, 'max_features': 'sqrt', 'max_leaf_nodes': 525, 'n_estimators': 351, 'min_samples_split': 5, 'min_samples_leaf': 10, 'NFOLDS': 10}. Best is trial 17 with value: 0.8327721661054994.\u001b[0m\n",
      "\u001b[32m[I 2022-01-25 02:18:52,020]\u001b[0m Trial 20 finished with value: 0.8260381593714927 and parameters: {'criterion': 'entropy', 'bootstrap': 'False', 'max_depth': 462, 'max_features': 'sqrt', 'max_leaf_nodes': 500, 'n_estimators': 379, 'min_samples_split': 5, 'min_samples_leaf': 10, 'NFOLDS': 10}. Best is trial 17 with value: 0.8327721661054994.\u001b[0m\n",
      "\u001b[32m[I 2022-01-25 02:18:53,881]\u001b[0m Trial 21 finished with value: 0.8260381593714927 and parameters: {'criterion': 'entropy', 'bootstrap': 'False', 'max_depth': 106, 'max_features': 'log2', 'max_leaf_nodes': 879, 'n_estimators': 196, 'min_samples_split': 5, 'min_samples_leaf': 6, 'NFOLDS': 6}. Best is trial 17 with value: 0.8327721661054994.\u001b[0m\n",
      "\u001b[32m[I 2022-01-25 02:18:58,108]\u001b[0m Trial 22 finished with value: 0.8271604938271605 and parameters: {'criterion': 'entropy', 'bootstrap': 'False', 'max_depth': 369, 'max_features': 'sqrt', 'max_leaf_nodes': 895, 'n_estimators': 328, 'min_samples_split': 5, 'min_samples_leaf': 9, 'NFOLDS': 9}. Best is trial 17 with value: 0.8327721661054994.\u001b[0m\n",
      "\u001b[32m[I 2022-01-25 02:19:05,581]\u001b[0m Trial 23 finished with value: 0.8237934904601572 and parameters: {'criterion': 'entropy', 'bootstrap': 'False', 'max_depth': 276, 'max_features': 'sqrt', 'max_leaf_nodes': 717, 'n_estimators': 514, 'min_samples_split': 4, 'min_samples_leaf': 9, 'NFOLDS': 10}. Best is trial 17 with value: 0.8327721661054994.\u001b[0m\n",
      "\u001b[32m[I 2022-01-25 02:19:07,366]\u001b[0m Trial 24 finished with value: 0.8271604938271605 and parameters: {'criterion': 'entropy', 'bootstrap': 'False', 'max_depth': 514, 'max_features': 'sqrt', 'max_leaf_nodes': 409, 'n_estimators': 134, 'min_samples_split': 5, 'min_samples_leaf': 8, 'NFOLDS': 9}. Best is trial 17 with value: 0.8327721661054994.\u001b[0m\n",
      "\u001b[32m[I 2022-01-25 02:19:11,825]\u001b[0m Trial 25 finished with value: 0.819304152637486 and parameters: {'criterion': 'entropy', 'bootstrap': 'False', 'max_depth': 195, 'max_features': 'sqrt', 'max_leaf_nodes': 580, 'n_estimators': 436, 'min_samples_split': 5, 'min_samples_leaf': 8, 'NFOLDS': 7}. Best is trial 17 with value: 0.8327721661054994.\u001b[0m\n",
      "\u001b[32m[I 2022-01-25 02:19:20,077]\u001b[0m Trial 26 finished with value: 0.8249158249158249 and parameters: {'criterion': 'gini', 'bootstrap': 'True', 'max_depth': 267, 'max_features': 'log2', 'max_leaf_nodes': 681, 'n_estimators': 624, 'min_samples_split': 4, 'min_samples_leaf': 10, 'NFOLDS': 9}. Best is trial 17 with value: 0.8327721661054994.\u001b[0m\n",
      "\u001b[32m[I 2022-01-25 02:19:24,327]\u001b[0m Trial 27 finished with value: 0.8338945005611672 and parameters: {'criterion': 'entropy', 'bootstrap': 'False', 'max_depth': 87, 'max_features': 'log2', 'max_leaf_nodes': 812, 'n_estimators': 282, 'min_samples_split': 5, 'min_samples_leaf': 7, 'NFOLDS': 10}. Best is trial 27 with value: 0.8338945005611672.\u001b[0m\n",
      "\u001b[32m[I 2022-01-25 02:19:27,466]\u001b[0m Trial 28 finished with value: 0.8215488215488216 and parameters: {'criterion': 'entropy', 'bootstrap': 'False', 'max_depth': 83, 'max_features': 'log2', 'max_leaf_nodes': 834, 'n_estimators': 300, 'min_samples_split': 5, 'min_samples_leaf': 7, 'NFOLDS': 7}. Best is trial 27 with value: 0.8338945005611672.\u001b[0m\n",
      "\u001b[32m[I 2022-01-25 02:19:34,013]\u001b[0m Trial 29 finished with value: 0.8271604938271605 and parameters: {'criterion': 'gini', 'bootstrap': 'True', 'max_depth': 179, 'max_features': 'auto', 'max_leaf_nodes': 193, 'n_estimators': 442, 'min_samples_split': 5, 'min_samples_leaf': 9, 'NFOLDS': 10}. Best is trial 27 with value: 0.8338945005611672.\u001b[0m\n",
      "\u001b[32m[I 2022-01-25 02:19:36,344]\u001b[0m Trial 30 finished with value: 0.8170594837261503 and parameters: {'criterion': 'entropy', 'bootstrap': 'False', 'max_depth': 331, 'max_features': 'log2', 'max_leaf_nodes': 795, 'n_estimators': 256, 'min_samples_split': 4, 'min_samples_leaf': 4, 'NFOLDS': 6}. Best is trial 27 with value: 0.8338945005611672.\u001b[0m\n",
      "\u001b[32m[I 2022-01-25 02:19:42,080]\u001b[0m Trial 31 finished with value: 0.8271604938271605 and parameters: {'criterion': 'entropy', 'bootstrap': 'False', 'max_depth': 440, 'max_features': 'log2', 'max_leaf_nodes': 925, 'n_estimators': 382, 'min_samples_split': 5, 'min_samples_leaf': 8, 'NFOLDS': 10}. Best is trial 27 with value: 0.8338945005611672.\u001b[0m\n",
      "\u001b[32m[I 2022-01-25 02:19:44,280]\u001b[0m Trial 32 finished with value: 0.8226711560044894 and parameters: {'criterion': 'entropy', 'bootstrap': 'False', 'max_depth': 246, 'max_features': 'log2', 'max_leaf_nodes': 764, 'n_estimators': 160, 'min_samples_split': 4, 'min_samples_leaf': 6, 'NFOLDS': 9}. Best is trial 27 with value: 0.8338945005611672.\u001b[0m\n",
      "\u001b[32m[I 2022-01-25 02:19:45,478]\u001b[0m Trial 33 finished with value: 0.8282828282828283 and parameters: {'criterion': 'entropy', 'bootstrap': 'False', 'max_depth': 66, 'max_features': 'sqrt', 'max_leaf_nodes': 888, 'n_estimators': 90, 'min_samples_split': 5, 'min_samples_leaf': 5, 'NFOLDS': 8}. Best is trial 27 with value: 0.8338945005611672.\u001b[0m\n",
      "\u001b[32m[I 2022-01-25 02:19:48,941]\u001b[0m Trial 34 finished with value: 0.8271604938271605 and parameters: {'criterion': 'entropy', 'bootstrap': 'False', 'max_depth': 312, 'max_features': 'sqrt', 'max_leaf_nodes': 997, 'n_estimators': 278, 'min_samples_split': 4, 'min_samples_leaf': 7, 'NFOLDS': 8}. Best is trial 27 with value: 0.8338945005611672.\u001b[0m\n",
      "\u001b[32m[I 2022-01-25 02:19:52,248]\u001b[0m Trial 35 finished with value: 0.8305274971941639 and parameters: {'criterion': 'entropy', 'bootstrap': 'False', 'max_depth': 176, 'max_features': 'log2', 'max_leaf_nodes': 320, 'n_estimators': 220, 'min_samples_split': 5, 'min_samples_leaf': 6, 'NFOLDS': 10}. Best is trial 27 with value: 0.8338945005611672.\u001b[0m\n",
      "\u001b[32m[I 2022-01-25 02:19:57,704]\u001b[0m Trial 36 finished with value: 0.8294051627384961 and parameters: {'criterion': 'entropy', 'bootstrap': 'False', 'max_depth': 161, 'max_features': 'auto', 'max_leaf_nodes': 305, 'n_estimators': 361, 'min_samples_split': 5, 'min_samples_leaf': 6, 'NFOLDS': 10}. Best is trial 27 with value: 0.8338945005611672.\u001b[0m\n",
      "\u001b[32m[I 2022-01-25 02:20:06,059]\u001b[0m Trial 37 finished with value: 0.8294051627384961 and parameters: {'criterion': 'entropy', 'bootstrap': 'False', 'max_depth': 145, 'max_features': 'auto', 'max_leaf_nodes': 295, 'n_estimators': 575, 'min_samples_split': 5, 'min_samples_leaf': 6, 'NFOLDS': 9}. Best is trial 27 with value: 0.8338945005611672.\u001b[0m\n",
      "\u001b[32m[I 2022-01-25 02:20:13,425]\u001b[0m Trial 38 finished with value: 0.8260381593714927 and parameters: {'criterion': 'gini', 'bootstrap': 'True', 'max_depth': 134, 'max_features': 'auto', 'max_leaf_nodes': 318, 'n_estimators': 564, 'min_samples_split': 5, 'min_samples_leaf': 7, 'NFOLDS': 9}. Best is trial 27 with value: 0.8338945005611672.\u001b[0m\n",
      "\u001b[32m[I 2022-01-25 02:20:13,674]\u001b[0m Trial 39 finished with value: 0.8327721661054994 and parameters: {'criterion': 'entropy', 'bootstrap': 'False', 'max_depth': 208, 'max_features': 'log2', 'max_leaf_nodes': 678, 'n_estimators': 65, 'min_samples_split': 2, 'min_samples_leaf': 4, 'NFOLDS': 2}. Best is trial 27 with value: 0.8338945005611672.\u001b[0m\n",
      "\u001b[32m[I 2022-01-25 02:20:13,727]\u001b[0m Trial 40 finished with value: 0.8148148148148148 and parameters: {'criterion': 'entropy', 'bootstrap': 'False', 'max_depth': 195, 'max_features': 'log2', 'max_leaf_nodes': 659, 'n_estimators': 3, 'min_samples_split': 2, 'min_samples_leaf': 4, 'NFOLDS': 2}. Best is trial 27 with value: 0.8338945005611672.\u001b[0m\n",
      "\u001b[32m[I 2022-01-25 02:20:14,981]\u001b[0m Trial 41 finished with value: 0.8271604938271605 and parameters: {'criterion': 'entropy', 'bootstrap': 'False', 'max_depth': 358, 'max_features': 'log2', 'max_leaf_nodes': 544, 'n_estimators': 77, 'min_samples_split': 2, 'min_samples_leaf': 5, 'NFOLDS': 10}. Best is trial 27 with value: 0.8338945005611672.\u001b[0m\n",
      "\u001b[32m[I 2022-01-25 02:20:17,751]\u001b[0m Trial 42 finished with value: 0.8305274971941639 and parameters: {'criterion': 'entropy', 'bootstrap': 'False', 'max_depth': 460, 'max_features': 'log2', 'max_leaf_nodes': 448, 'n_estimators': 191, 'min_samples_split': 2, 'min_samples_leaf': 4, 'NFOLDS': 10}. Best is trial 27 with value: 0.8338945005611672.\u001b[0m\n",
      "\u001b[32m[I 2022-01-25 02:20:19,682]\u001b[0m Trial 43 finished with value: 0.8215488215488216 and parameters: {'criterion': 'entropy', 'bootstrap': 'False', 'max_depth': 597, 'max_features': 'log2', 'max_leaf_nodes': 464, 'n_estimators': 158, 'min_samples_split': 2, 'min_samples_leaf': 4, 'NFOLDS': 8}. Best is trial 27 with value: 0.8338945005611672.\u001b[0m\n",
      "\u001b[32m[I 2022-01-25 02:20:20,658]\u001b[0m Trial 44 finished with value: 0.8271604938271605 and parameters: {'criterion': 'entropy', 'bootstrap': 'False', 'max_depth': 486, 'max_features': 'log2', 'max_leaf_nodes': 233, 'n_estimators': 210, 'min_samples_split': 2, 'min_samples_leaf': 3, 'NFOLDS': 3}. Best is trial 27 with value: 0.8338945005611672.\u001b[0m\n",
      "\u001b[32m[I 2022-01-25 02:20:21,595]\u001b[0m Trial 45 finished with value: 0.8260381593714927 and parameters: {'criterion': 'entropy', 'bootstrap': 'False', 'max_depth': 62, 'max_features': 'log2', 'max_leaf_nodes': 363, 'n_estimators': 64, 'min_samples_split': 3, 'min_samples_leaf': 5, 'NFOLDS': 9}. Best is trial 27 with value: 0.8338945005611672.\u001b[0m\n",
      "\u001b[32m[I 2022-01-25 02:20:23,607]\u001b[0m Trial 46 finished with value: 0.8271604938271605 and parameters: {'criterion': 'entropy', 'bootstrap': 'False', 'max_depth': 215, 'max_features': 'log2', 'max_leaf_nodes': 600, 'n_estimators': 127, 'min_samples_split': 2, 'min_samples_leaf': 5, 'NFOLDS': 10}. Best is trial 27 with value: 0.8338945005611672.\u001b[0m\n",
      "\u001b[32m[I 2022-01-25 02:20:25,853]\u001b[0m Trial 47 finished with value: 0.8237934904601572 and parameters: {'criterion': 'gini', 'bootstrap': 'True', 'max_depth': 566, 'max_features': 'log2', 'max_leaf_nodes': 421, 'n_estimators': 198, 'min_samples_split': 3, 'min_samples_leaf': 4, 'NFOLDS': 8}. Best is trial 27 with value: 0.8338945005611672.\u001b[0m\n",
      "\u001b[32m[I 2022-01-25 02:20:31,867]\u001b[0m Trial 48 finished with value: 0.8316498316498316 and parameters: {'criterion': 'entropy', 'bootstrap': 'False', 'max_depth': 757, 'max_features': 'log2', 'max_leaf_nodes': 168, 'n_estimators': 413, 'min_samples_split': 2, 'min_samples_leaf': 7, 'NFOLDS': 10}. Best is trial 27 with value: 0.8338945005611672.\u001b[0m\n",
      "\u001b[32m[I 2022-01-25 02:20:37,149]\u001b[0m Trial 49 finished with value: 0.7968574635241302 and parameters: {'criterion': 'entropy', 'bootstrap': 'False', 'max_depth': 801, 'max_features': 'log2', 'max_leaf_nodes': 3, 'n_estimators': 424, 'min_samples_split': 2, 'min_samples_leaf': 7, 'NFOLDS': 9}. Best is trial 27 with value: 0.8338945005611672.\u001b[0m\n",
      "\u001b[32m[I 2022-01-25 02:20:40,449]\u001b[0m Trial 50 finished with value: 0.8170594837261503 and parameters: {'criterion': 'entropy', 'bootstrap': 'False', 'max_depth': 960, 'max_features': 'log2', 'max_leaf_nodes': 242, 'n_estimators': 326, 'min_samples_split': 3, 'min_samples_leaf': 8, 'NFOLDS': 7}. Best is trial 27 with value: 0.8338945005611672.\u001b[0m\n",
      "\u001b[32m[I 2022-01-25 02:20:44,182]\u001b[0m Trial 51 finished with value: 0.8282828282828283 and parameters: {'criterion': 'entropy', 'bootstrap': 'False', 'max_depth': 651, 'max_features': 'log2', 'max_leaf_nodes': 144, 'n_estimators': 251, 'min_samples_split': 2, 'min_samples_leaf': 2, 'NFOLDS': 10}. Best is trial 27 with value: 0.8338945005611672.\u001b[0m\n",
      "\u001b[32m[I 2022-01-25 02:20:48,414]\u001b[0m Trial 52 finished with value: 0.8294051627384961 and parameters: {'criterion': 'entropy', 'bootstrap': 'False', 'max_depth': 891, 'max_features': 'log2', 'max_leaf_nodes': 102, 'n_estimators': 296, 'min_samples_split': 2, 'min_samples_leaf': 7, 'NFOLDS': 10}. Best is trial 27 with value: 0.8338945005611672.\u001b[0m\n",
      "\u001b[32m[I 2022-01-25 02:20:54,598]\u001b[0m Trial 53 finished with value: 0.8282828282828283 and parameters: {'criterion': 'entropy', 'bootstrap': 'False', 'max_depth': 771, 'max_features': 'log2', 'max_leaf_nodes': 376, 'n_estimators': 405, 'min_samples_split': 2, 'min_samples_leaf': 3, 'NFOLDS': 10}. Best is trial 27 with value: 0.8338945005611672.\u001b[0m\n",
      "\u001b[32m[I 2022-01-25 02:21:00,818]\u001b[0m Trial 54 finished with value: 0.8226711560044894 and parameters: {'criterion': 'entropy', 'bootstrap': 'False', 'max_depth': 550, 'max_features': 'log2', 'max_leaf_nodes': 152, 'n_estimators': 466, 'min_samples_split': 2, 'min_samples_leaf': 6, 'NFOLDS': 9}. Best is trial 27 with value: 0.8338945005611672.\u001b[0m\n",
      "\u001b[32m[I 2022-01-25 02:21:04,126]\u001b[0m Trial 55 finished with value: 0.8327721661054994 and parameters: {'criterion': 'entropy', 'bootstrap': 'False', 'max_depth': 29, 'max_features': 'log2', 'max_leaf_nodes': 931, 'n_estimators': 224, 'min_samples_split': 3, 'min_samples_leaf': 8, 'NFOLDS': 10}. Best is trial 27 with value: 0.8338945005611672.\u001b[0m\n",
      "\u001b[32m[I 2022-01-25 02:21:04,279]\u001b[0m Trial 56 finished with value: 0.8237934904601572 and parameters: {'criterion': 'entropy', 'bootstrap': 'False', 'max_depth': 13, 'max_features': 'log2', 'max_leaf_nodes': 964, 'n_estimators': 39, 'min_samples_split': 3, 'min_samples_leaf': 8, 'NFOLDS': 2}. Best is trial 27 with value: 0.8338945005611672.\u001b[0m\n",
      "\u001b[32m[I 2022-01-25 02:21:08,285]\u001b[0m Trial 57 finished with value: 0.8181818181818182 and parameters: {'criterion': 'entropy', 'bootstrap': 'False', 'max_depth': 100, 'max_features': 'log2', 'max_leaf_nodes': 918, 'n_estimators': 923, 'min_samples_split': 3, 'min_samples_leaf': 9, 'NFOLDS': 3}. Best is trial 27 with value: 0.8338945005611672.\u001b[0m\n",
      "\u001b[32m[I 2022-01-25 02:21:09,392]\u001b[0m Trial 58 finished with value: 0.8170594837261503 and parameters: {'criterion': 'gini', 'bootstrap': 'True', 'max_depth': 709, 'max_features': 'log2', 'max_leaf_nodes': 790, 'n_estimators': 121, 'min_samples_split': 2, 'min_samples_leaf': 7, 'NFOLDS': 6}. Best is trial 27 with value: 0.8338945005611672.\u001b[0m\n",
      "\u001b[32m[I 2022-01-25 02:21:13,763]\u001b[0m Trial 59 finished with value: 0.8294051627384961 and parameters: {'criterion': 'entropy', 'bootstrap': 'False', 'max_depth': 35, 'max_features': 'log2', 'max_leaf_nodes': 848, 'n_estimators': 326, 'min_samples_split': 3, 'min_samples_leaf': 8, 'NFOLDS': 9}. Best is trial 27 with value: 0.8338945005611672.\u001b[0m\n",
      "\u001b[32m[I 2022-01-25 02:21:17,764]\u001b[0m Trial 60 finished with value: 0.8260381593714927 and parameters: {'criterion': 'entropy', 'bootstrap': 'False', 'max_depth': 117, 'max_features': 'log2', 'max_leaf_nodes': 711, 'n_estimators': 222, 'min_samples_split': 3, 'min_samples_leaf': 7, 'NFOLDS': 10}. Best is trial 27 with value: 0.8338945005611672.\u001b[0m\n",
      "\u001b[32m[I 2022-01-25 02:21:20,750]\u001b[0m Trial 61 finished with value: 0.8305274971941639 and parameters: {'criterion': 'entropy', 'bootstrap': 'False', 'max_depth': 239, 'max_features': 'log2', 'max_leaf_nodes': 762, 'n_estimators': 187, 'min_samples_split': 2, 'min_samples_leaf': 8, 'NFOLDS': 10}. Best is trial 27 with value: 0.8338945005611672.\u001b[0m\n",
      "\u001b[32m[I 2022-01-25 02:21:23,182]\u001b[0m Trial 62 finished with value: 0.8271604938271605 and parameters: {'criterion': 'entropy', 'bootstrap': 'False', 'max_depth': 393, 'max_features': 'log2', 'max_leaf_nodes': 762, 'n_estimators': 165, 'min_samples_split': 2, 'min_samples_leaf': 9, 'NFOLDS': 10}. Best is trial 27 with value: 0.8338945005611672.\u001b[0m\n",
      "\u001b[32m[I 2022-01-25 02:21:26,923]\u001b[0m Trial 63 finished with value: 0.8294051627384961 and parameters: {'criterion': 'entropy', 'bootstrap': 'False', 'max_depth': 50, 'max_features': 'log2', 'max_leaf_nodes': 491, 'n_estimators': 274, 'min_samples_split': 2, 'min_samples_leaf': 6, 'NFOLDS': 9}. Best is trial 27 with value: 0.8338945005611672.\u001b[0m\n",
      "\u001b[32m[I 2022-01-25 02:21:39,213]\u001b[0m Trial 64 finished with value: 0.8327721661054994 and parameters: {'criterion': 'entropy', 'bootstrap': 'False', 'max_depth': 137, 'max_features': 'log2', 'max_leaf_nodes': 853, 'n_estimators': 814, 'min_samples_split': 4, 'min_samples_leaf': 6, 'NFOLDS': 10}. Best is trial 27 with value: 0.8338945005611672.\u001b[0m\n",
      "\u001b[32m[I 2022-01-25 02:21:46,004]\u001b[0m Trial 65 finished with value: 0.8316498316498316 and parameters: {'criterion': 'entropy', 'bootstrap': 'False', 'max_depth': 157, 'max_features': 'log2', 'max_leaf_nodes': 935, 'n_estimators': 485, 'min_samples_split': 4, 'min_samples_leaf': 7, 'NFOLDS': 10}. Best is trial 27 with value: 0.8338945005611672.\u001b[0m\n",
      "\u001b[32m[I 2022-01-25 02:21:56,827]\u001b[0m Trial 66 finished with value: 0.8271604938271605 and parameters: {'criterion': 'entropy', 'bootstrap': 'False', 'max_depth': 91, 'max_features': 'log2', 'max_leaf_nodes': 938, 'n_estimators': 805, 'min_samples_split': 4, 'min_samples_leaf': 8, 'NFOLDS': 9}. Best is trial 27 with value: 0.8338945005611672.\u001b[0m\n",
      "\u001b[32m[I 2022-01-25 02:22:04,050]\u001b[0m Trial 67 finished with value: 0.8316498316498316 and parameters: {'criterion': 'entropy', 'bootstrap': 'False', 'max_depth': 136, 'max_features': 'log2', 'max_leaf_nodes': 874, 'n_estimators': 490, 'min_samples_split': 4, 'min_samples_leaf': 7, 'NFOLDS': 10}. Best is trial 27 with value: 0.8338945005611672.\u001b[0m\n",
      "\u001b[32m[I 2022-01-25 02:22:08,808]\u001b[0m Trial 68 finished with value: 0.8237934904601572 and parameters: {'criterion': 'entropy', 'bootstrap': 'True', 'max_depth': 300, 'max_features': 'log2', 'max_leaf_nodes': 857, 'n_estimators': 667, 'min_samples_split': 4, 'min_samples_leaf': 7, 'NFOLDS': 5}. Best is trial 27 with value: 0.8338945005611672.\u001b[0m\n",
      "\u001b[32m[I 2022-01-25 02:22:16,484]\u001b[0m Trial 69 finished with value: 0.8316498316498316 and parameters: {'criterion': 'gini', 'bootstrap': 'False', 'max_depth': 33, 'max_features': 'log2', 'max_leaf_nodes': 815, 'n_estimators': 523, 'min_samples_split': 4, 'min_samples_leaf': 8, 'NFOLDS': 10}. Best is trial 27 with value: 0.8338945005611672.\u001b[0m\n",
      "\u001b[32m[I 2022-01-25 02:22:27,484]\u001b[0m Trial 70 finished with value: 0.8249158249158249 and parameters: {'criterion': 'gini', 'bootstrap': 'False', 'max_depth': 27, 'max_features': 'log2', 'max_leaf_nodes': 813, 'n_estimators': 820, 'min_samples_split': 4, 'min_samples_leaf': 8, 'NFOLDS': 9}. Best is trial 27 with value: 0.8338945005611672.\u001b[0m\n",
      "\u001b[32m[I 2022-01-25 02:22:34,552]\u001b[0m Trial 71 finished with value: 0.8305274971941639 and parameters: {'criterion': 'entropy', 'bootstrap': 'False', 'max_depth': 144, 'max_features': 'log2', 'max_leaf_nodes': 904, 'n_estimators': 468, 'min_samples_split': 4, 'min_samples_leaf': 7, 'NFOLDS': 10}. Best is trial 27 with value: 0.8338945005611672.\u001b[0m\n",
      "\u001b[32m[I 2022-01-25 02:22:41,971]\u001b[0m Trial 72 finished with value: 0.7732884399551067 and parameters: {'criterion': 'gini', 'bootstrap': 'False', 'max_depth': 1, 'max_features': 'log2', 'max_leaf_nodes': 954, 'n_estimators': 534, 'min_samples_split': 4, 'min_samples_leaf': 8, 'NFOLDS': 10}. Best is trial 27 with value: 0.8338945005611672.\u001b[0m\n",
      "\u001b[32m[I 2022-01-25 02:22:45,588]\u001b[0m Trial 73 finished with value: 0.8181818181818182 and parameters: {'criterion': 'gini', 'bootstrap': 'False', 'max_depth': 120, 'max_features': 'log2', 'max_leaf_nodes': 864, 'n_estimators': 633, 'min_samples_split': 4, 'min_samples_leaf': 9, 'NFOLDS': 4}. Best is trial 27 with value: 0.8338945005611672.\u001b[0m\n",
      "\u001b[32m[I 2022-01-25 02:22:51,329]\u001b[0m Trial 74 finished with value: 0.8316498316498316 and parameters: {'criterion': 'gini', 'bootstrap': 'False', 'max_depth': 77, 'max_features': 'log2', 'max_leaf_nodes': 695, 'n_estimators': 396, 'min_samples_split': 4, 'min_samples_leaf': 7, 'NFOLDS': 10}. Best is trial 27 with value: 0.8338945005611672.\u001b[0m\n",
      "\u001b[32m[I 2022-01-25 02:22:57,039]\u001b[0m Trial 75 finished with value: 0.8294051627384961 and parameters: {'criterion': 'gini', 'bootstrap': 'False', 'max_depth': 79, 'max_features': 'auto', 'max_leaf_nodes': 693, 'n_estimators': 399, 'min_samples_split': 3, 'min_samples_leaf': 6, 'NFOLDS': 10}. Best is trial 27 with value: 0.8338945005611672.\u001b[0m\n",
      "\u001b[32m[I 2022-01-25 02:23:06,531]\u001b[0m Trial 76 finished with value: 0.8260381593714927 and parameters: {'criterion': 'entropy', 'bootstrap': 'False', 'max_depth': 213, 'max_features': 'log2', 'max_leaf_nodes': 830, 'n_estimators': 746, 'min_samples_split': 4, 'min_samples_leaf': 8, 'NFOLDS': 9}. Best is trial 27 with value: 0.8338945005611672.\u001b[0m\n",
      "\u001b[32m[I 2022-01-25 02:23:13,517]\u001b[0m Trial 77 finished with value: 0.8305274971941639 and parameters: {'criterion': 'entropy', 'bootstrap': 'False', 'max_depth': 172, 'max_features': 'log2', 'max_leaf_nodes': 996, 'n_estimators': 474, 'min_samples_split': 5, 'min_samples_leaf': 7, 'NFOLDS': 10}. Best is trial 27 with value: 0.8338945005611672.\u001b[0m\n",
      "\u001b[32m[I 2022-01-25 02:23:17,981]\u001b[0m Trial 78 finished with value: 0.8249158249158249 and parameters: {'criterion': 'gini', 'bootstrap': 'False', 'max_depth': 46, 'max_features': 'sqrt', 'max_leaf_nodes': 652, 'n_estimators': 337, 'min_samples_split': 4, 'min_samples_leaf': 9, 'NFOLDS': 9}. Best is trial 27 with value: 0.8338945005611672.\u001b[0m\n",
      "\u001b[32m[I 2022-01-25 02:23:23,290]\u001b[0m Trial 79 finished with value: 0.8271604938271605 and parameters: {'criterion': 'gini', 'bootstrap': 'False', 'max_depth': 87, 'max_features': 'log2', 'max_leaf_nodes': 740, 'n_estimators': 373, 'min_samples_split': 5, 'min_samples_leaf': 6, 'NFOLDS': 10}. Best is trial 27 with value: 0.8338945005611672.\u001b[0m\n",
      "\u001b[32m[I 2022-01-25 02:23:30,810]\u001b[0m Trial 80 finished with value: 0.8294051627384961 and parameters: {'criterion': 'entropy', 'bootstrap': 'True', 'max_depth': 142, 'max_features': 'log2', 'max_leaf_nodes': 966, 'n_estimators': 535, 'min_samples_split': 4, 'min_samples_leaf': 8, 'NFOLDS': 10}. Best is trial 27 with value: 0.8338945005611672.\u001b[0m\n",
      "\u001b[32m[I 2022-01-25 02:23:44,863]\u001b[0m Trial 81 finished with value: 0.8327721661054994 and parameters: {'criterion': 'gini', 'bootstrap': 'False', 'max_depth': 117, 'max_features': 'log2', 'max_leaf_nodes': 886, 'n_estimators': 993, 'min_samples_split': 4, 'min_samples_leaf': 7, 'NFOLDS': 10}. Best is trial 27 with value: 0.8338945005611672.\u001b[0m\n",
      "\u001b[32m[I 2022-01-25 02:23:58,856]\u001b[0m Trial 82 finished with value: 0.8338945005611672 and parameters: {'criterion': 'gini', 'bootstrap': 'False', 'max_depth': 256, 'max_features': 'log2', 'max_leaf_nodes': 880, 'n_estimators': 972, 'min_samples_split': 4, 'min_samples_leaf': 7, 'NFOLDS': 10}. Best is trial 27 with value: 0.8338945005611672.\u001b[0m\n",
      "\u001b[32m[I 2022-01-25 02:24:12,895]\u001b[0m Trial 83 finished with value: 0.8282828282828283 and parameters: {'criterion': 'gini', 'bootstrap': 'False', 'max_depth': 248, 'max_features': 'log2', 'max_leaf_nodes': 792, 'n_estimators': 957, 'min_samples_split': 4, 'min_samples_leaf': 6, 'NFOLDS': 10}. Best is trial 27 with value: 0.8338945005611672.\u001b[0m\n",
      "\u001b[32m[I 2022-01-25 02:24:25,577]\u001b[0m Trial 84 finished with value: 0.8305274971941639 and parameters: {'criterion': 'gini', 'bootstrap': 'False', 'max_depth': 203, 'max_features': 'log2', 'max_leaf_nodes': 876, 'n_estimators': 961, 'min_samples_split': 4, 'min_samples_leaf': 7, 'NFOLDS': 9}. Best is trial 27 with value: 0.8338945005611672.\u001b[0m\n",
      "\u001b[32m[I 2022-01-25 02:24:38,670]\u001b[0m Trial 85 finished with value: 0.8316498316498316 and parameters: {'criterion': 'entropy', 'bootstrap': 'False', 'max_depth': 258, 'max_features': 'log2', 'max_leaf_nodes': 936, 'n_estimators': 898, 'min_samples_split': 3, 'min_samples_leaf': 7, 'NFOLDS': 10}. Best is trial 27 with value: 0.8338945005611672.\u001b[0m\n",
      "\u001b[32m[I 2022-01-25 02:24:52,151]\u001b[0m Trial 86 finished with value: 0.8282828282828283 and parameters: {'criterion': 'gini', 'bootstrap': 'False', 'max_depth': 280, 'max_features': 'auto', 'max_leaf_nodes': 902, 'n_estimators': 994, 'min_samples_split': 3, 'min_samples_leaf': 7, 'NFOLDS': 9}. Best is trial 27 with value: 0.8338945005611672.\u001b[0m\n",
      "\u001b[32m[I 2022-01-25 02:25:04,291]\u001b[0m Trial 87 finished with value: 0.8282828282828283 and parameters: {'criterion': 'gini', 'bootstrap': 'False', 'max_depth': 58, 'max_features': 'log2', 'max_leaf_nodes': 843, 'n_estimators': 850, 'min_samples_split': 5, 'min_samples_leaf': 8, 'NFOLDS': 10}. Best is trial 27 with value: 0.8338945005611672.\u001b[0m\n",
      "\u001b[32m[I 2022-01-25 02:25:17,656]\u001b[0m Trial 88 finished with value: 0.835016835016835 and parameters: {'criterion': 'entropy', 'bootstrap': 'False', 'max_depth': 325, 'max_features': 'log2', 'max_leaf_nodes': 919, 'n_estimators': 922, 'min_samples_split': 3, 'min_samples_leaf': 6, 'NFOLDS': 10}. Best is trial 88 with value: 0.835016835016835.\u001b[0m\n",
      "\u001b[32m[I 2022-01-25 02:25:27,273]\u001b[0m Trial 89 finished with value: 0.8215488215488216 and parameters: {'criterion': 'entropy', 'bootstrap': 'False', 'max_depth': 335, 'max_features': 'log2', 'max_leaf_nodes': 976, 'n_estimators': 907, 'min_samples_split': 3, 'min_samples_leaf': 5, 'NFOLDS': 7}. Best is trial 88 with value: 0.835016835016835.\u001b[0m\n",
      "\u001b[32m[I 2022-01-25 02:25:39,098]\u001b[0m Trial 90 finished with value: 0.8249158249158249 and parameters: {'criterion': 'gini', 'bootstrap': 'False', 'max_depth': 182, 'max_features': 'sqrt', 'max_leaf_nodes': 631, 'n_estimators': 990, 'min_samples_split': 3, 'min_samples_leaf': 6, 'NFOLDS': 8}. Best is trial 88 with value: 0.835016835016835.\u001b[0m\n",
      "\u001b[32m[I 2022-01-25 02:25:52,797]\u001b[0m Trial 91 finished with value: 0.8294051627384961 and parameters: {'criterion': 'gini', 'bootstrap': 'False', 'max_depth': 253, 'max_features': 'log2', 'max_leaf_nodes': 906, 'n_estimators': 898, 'min_samples_split': 3, 'min_samples_leaf': 6, 'NFOLDS': 10}. Best is trial 88 with value: 0.835016835016835.\u001b[0m\n",
      "\u001b[32m[I 2022-01-25 02:26:06,595]\u001b[0m Trial 92 finished with value: 0.8305274971941639 and parameters: {'criterion': 'gini', 'bootstrap': 'False', 'max_depth': 106, 'max_features': 'log2', 'max_leaf_nodes': 814, 'n_estimators': 977, 'min_samples_split': 4, 'min_samples_leaf': 6, 'NFOLDS': 10}. Best is trial 88 with value: 0.835016835016835.\u001b[0m\n",
      "\u001b[32m[I 2022-01-25 02:26:11,457]\u001b[0m Trial 93 finished with value: 0.8170594837261503 and parameters: {'criterion': 'gini', 'bootstrap': 'False', 'max_depth': 231, 'max_features': 'log2', 'max_leaf_nodes': 933, 'n_estimators': 859, 'min_samples_split': 4, 'min_samples_leaf': 8, 'NFOLDS': 4}. Best is trial 88 with value: 0.835016835016835.\u001b[0m\n",
      "\u001b[32m[I 2022-01-25 02:26:24,682]\u001b[0m Trial 94 finished with value: 0.8327721661054994 and parameters: {'criterion': 'entropy', 'bootstrap': 'False', 'max_depth': 304, 'max_features': 'log2', 'max_leaf_nodes': 894, 'n_estimators': 936, 'min_samples_split': 3, 'min_samples_leaf': 7, 'NFOLDS': 10}. Best is trial 88 with value: 0.835016835016835.\u001b[0m\n",
      "\u001b[32m[I 2022-01-25 02:26:39,271]\u001b[0m Trial 95 finished with value: 0.8271604938271605 and parameters: {'criterion': 'entropy', 'bootstrap': 'False', 'max_depth': 313, 'max_features': 'log2', 'max_leaf_nodes': 879, 'n_estimators': 935, 'min_samples_split': 3, 'min_samples_leaf': 5, 'NFOLDS': 10}. Best is trial 88 with value: 0.835016835016835.\u001b[0m\n",
      "\u001b[32m[I 2022-01-25 02:26:49,061]\u001b[0m Trial 96 finished with value: 0.8282828282828283 and parameters: {'criterion': 'gini', 'bootstrap': 'False', 'max_depth': 361, 'max_features': 'log2', 'max_leaf_nodes': 777, 'n_estimators': 778, 'min_samples_split': 3, 'min_samples_leaf': 9, 'NFOLDS': 9}. Best is trial 88 with value: 0.835016835016835.\u001b[0m\n",
      "\u001b[32m[I 2022-01-25 02:27:02,403]\u001b[0m Trial 97 finished with value: 0.8327721661054994 and parameters: {'criterion': 'entropy', 'bootstrap': 'False', 'max_depth': 386, 'max_features': 'log2', 'max_leaf_nodes': 851, 'n_estimators': 937, 'min_samples_split': 3, 'min_samples_leaf': 7, 'NFOLDS': 10}. Best is trial 88 with value: 0.835016835016835.\u001b[0m\n",
      "\u001b[32m[I 2022-01-25 02:27:14,550]\u001b[0m Trial 98 finished with value: 0.8271604938271605 and parameters: {'criterion': 'entropy', 'bootstrap': 'False', 'max_depth': 400, 'max_features': 'log2', 'max_leaf_nodes': 842, 'n_estimators': 856, 'min_samples_split': 3, 'min_samples_leaf': 6, 'NFOLDS': 10}. Best is trial 88 with value: 0.835016835016835.\u001b[0m\n",
      "\u001b[32m[I 2022-01-25 02:27:26,592]\u001b[0m Trial 99 finished with value: 0.8282828282828283 and parameters: {'criterion': 'entropy', 'bootstrap': 'True', 'max_depth': 429, 'max_features': 'log2', 'max_leaf_nodes': 911, 'n_estimators': 944, 'min_samples_split': 3, 'min_samples_leaf': 7, 'NFOLDS': 9}. Best is trial 88 with value: 0.835016835016835.\u001b[0m\n"
     ]
    }
   ],
   "source": [
    "#optunaで学習\n",
    "study = optuna.create_study(direction='maximize')\n",
    "study.optimize(objective, n_trials=100)"
   ]
  },
  {
   "cell_type": "code",
   "execution_count": 17,
   "id": "b0c4d364-5470-4fd2-be0a-4282de9a31c3",
   "metadata": {},
   "outputs": [
    {
     "data": {
      "text/plain": [
       "RandomForestClassifier(bootstrap='False', criterion='entropy', max_depth=325,\n",
       "                       max_features='log2', max_leaf_nodes=919,\n",
       "                       min_samples_leaf=6, min_samples_split=3,\n",
       "                       n_estimators=922, n_jobs=2)"
      ]
     },
     "execution_count": 17,
     "metadata": {},
     "output_type": "execute_result"
    }
   ],
   "source": [
    "# チューニングしたハイパーパラメーターをフィット\n",
    "params = study.best_params\n",
    "# optimised_rf = RandomForestClassifier(**params)\n",
    "# optimised_rf.fit(x_train, y_train)\n",
    "\n",
    "optimised_rf = RandomForestClassifier(bootstrap = study.best_params['bootstrap'],\n",
    "                                     criterion = study.best_params['criterion'],\n",
    "                                     max_depth = study.best_params['max_depth'], \n",
    "                                     max_features = study.best_params['max_features'],\n",
    "                                     max_leaf_nodes = study.best_params['max_leaf_nodes'],\n",
    "                                     n_estimators = study.best_params['n_estimators'],\n",
    "                                     min_samples_split = study.best_params['min_samples_split'],\n",
    "                                     min_samples_leaf = study.best_params['min_samples_leaf'],                                     \n",
    "                                     n_jobs=2)\n",
    "\n",
    "# optimised_rf = RandomForestClassifier(**params)\n",
    "optimised_rf.fit(x_train, y_train)\n"
   ]
  },
  {
   "cell_type": "code",
   "execution_count": 18,
   "id": "5112cd65-ce3a-4545-b5d9-b2201eb884c2",
   "metadata": {},
   "outputs": [],
   "source": [
    "y_test = optimised_rf.predict(x_test)"
   ]
  },
  {
   "cell_type": "code",
   "execution_count": 19,
   "id": "57185e1f-b35e-49dc-ad57-5ee1cdef9bd4",
   "metadata": {},
   "outputs": [],
   "source": [
    "submission_df = pd.DataFrame({\n",
    "    \"PassengerID\": IDtest,\n",
    "    \"Survived\"   : y_test\n",
    "})\n",
    "\n",
    "submission_df.to_csv('optimised_random_forest_submission.csv', index=False)\n",
    "# Score: 0.78229"
   ]
  },
  {
   "cell_type": "code",
   "execution_count": null,
   "id": "93793129-3668-4d50-a1d2-e192c2c40809",
   "metadata": {},
   "outputs": [],
   "source": []
  }
 ],
 "metadata": {
  "kernelspec": {
   "display_name": "Python 3",
   "language": "python",
   "name": "python3"
  },
  "language_info": {
   "codemirror_mode": {
    "name": "ipython",
    "version": 3
   },
   "file_extension": ".py",
   "mimetype": "text/x-python",
   "name": "python",
   "nbconvert_exporter": "python",
   "pygments_lexer": "ipython3",
   "version": "3.8.9"
  }
 },
 "nbformat": 4,
 "nbformat_minor": 5
}
